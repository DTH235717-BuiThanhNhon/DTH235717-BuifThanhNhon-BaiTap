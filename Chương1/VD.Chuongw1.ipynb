{
 "cells": [
  {
   "cell_type": "code",
   "execution_count": 1,
   "id": "685629a2",
   "metadata": {},
   "outputs": [
    {
     "name": "stdout",
     "output_type": "stream",
     "text": [
      "Albert Einstein đã từng nói: Một người không bao giờ mắc sai lầm không bao giờ thử bất kì điều gì mới\n"
     ]
    }
   ],
   "source": [
    "#VD_1.5.1\n",
    "print('Albert Einstein đã từng nói: Một người không bao giờ mắc sai lầm không bao giờ thử bất kì điều gì mới')"
   ]
  },
  {
   "cell_type": "code",
   "execution_count": 2,
   "id": "2e51b199",
   "metadata": {},
   "outputs": [
    {
     "name": "stdout",
     "output_type": "stream",
     "text": [
      "Hello, world!\n"
     ]
    }
   ],
   "source": [
    "#VD_1.4\n",
    "print('Hello, world!')"
   ]
  },
  {
   "cell_type": "code",
   "execution_count": 3,
   "id": "8b4f8462",
   "metadata": {},
   "outputs": [
    {
     "name": "stdout",
     "output_type": "stream",
     "text": [
      "Five is greater than two!\n",
      "6\n",
      "Hello Python!\n",
      "True\n",
      "Hello, World!\n"
     ]
    }
   ],
   "source": [
    "#VD_1.5.2\n",
    "if 5 > 2:\n",
    "    print('Five is greater than two!')\n",
    "total = 1 + \\\n",
    "2 + \\\n",
    "3\n",
    "print(total);print('Hello Python!')\n",
    "\n",
    "if True:\n",
    "    print('True')\n",
    "else:\n",
    "    print('False')\n",
    "#This is a comment\n",
    "print('Hello, World!')"
   ]
  },
  {
   "cell_type": "code",
   "execution_count": 4,
   "id": "285c8df1",
   "metadata": {},
   "outputs": [],
   "source": [
    "#VD_1.6\n",
    "import math\n",
    "import os"
   ]
  },
  {
   "cell_type": "code",
   "execution_count": 5,
   "id": "c272dca0",
   "metadata": {},
   "outputs": [
    {
     "name": "stdout",
     "output_type": "stream",
     "text": [
      "3\n"
     ]
    }
   ],
   "source": [
    "def add(a,b):\n",
    "  result = a + b\n",
    "  return result\n",
    "print(add(1,2))"
   ]
  },
  {
   "cell_type": "code",
   "execution_count": 7,
   "id": "33d0f83a",
   "metadata": {},
   "outputs": [
    {
     "data": {
      "text/plain": [
       "9"
      ]
     },
     "execution_count": 7,
     "metadata": {},
     "output_type": "execute_result"
    }
   ],
   "source": [
    "import math_libs\n",
    "math_libs.add(4,5)"
   ]
  },
  {
   "cell_type": "code",
   "execution_count": null,
   "id": "f0489486",
   "metadata": {},
   "outputs": [],
   "source": [
    "#module1.py\n",
    "question = 'what is the meaning of life, the Universe, and Everything?'\n",
    "answer = 42"
   ]
  },
  {
   "cell_type": "code",
   "execution_count": 8,
   "id": "03dab501",
   "metadata": {},
   "outputs": [
    {
     "name": "stdout",
     "output_type": "stream",
     "text": [
      "what is the meaning of life, the Universe, and Everything?\n",
      " What is your quest?\n",
      "42\n",
      "To seek the holy grail.\n",
      "what is the meaning of life, the Universe, and Everything?\n",
      " What is your quest?\n",
      "42\n",
      "To seek the holy grail.\n"
     ]
    }
   ],
   "source": [
    "#module2.py\n",
    "\n",
    "question =' What is your quest?'\n",
    "answer = 'To seek the holy grail.'\n",
    "\n",
    "import module1\n",
    "import module2\n",
    "print(module1.question)\n",
    "print(module2.question)\n",
    "print(module1.answer)\n",
    "print(module2.answer)"
   ]
  },
  {
   "cell_type": "code",
   "execution_count": 9,
   "id": "db5f7507",
   "metadata": {},
   "outputs": [
    {
     "name": "stdout",
     "output_type": "stream",
     "text": [
      "Chao cac ban !\n"
     ]
    }
   ],
   "source": [
    "#Câu4\n",
    "print('Chao cac ban !')"
   ]
  },
  {
   "cell_type": "code",
   "execution_count": 10,
   "id": "b1d53000",
   "metadata": {},
   "outputs": [
    {
     "name": "stdout",
     "output_type": "stream",
     "text": [
      "Bui Thanh Nhon\n"
     ]
    }
   ],
   "source": [
    "#Câu5\n",
    "print('Bui Thanh Nhon')"
   ]
  },
  {
   "cell_type": "code",
   "execution_count": 11,
   "id": "d6908a70",
   "metadata": {},
   "outputs": [
    {
     "name": "stdout",
     "output_type": "stream",
     "text": [
      "Mình về mình có nhớ ta?\n",
      "Mười lăm năm ấy thiết tha mặn nồng.\n",
      "Mình về mình có nhớ không?\n",
      "Nhìn cây nhớ núi, nhìn sông nhớ nguồn.\n"
     ]
    }
   ],
   "source": [
    "#Câu6\n",
    "print('Mình về mình có nhớ ta?\\nMười lăm năm ấy thiết tha mặn nồng.\\nMình về mình có nhớ không?\\nNhìn cây nhớ núi, nhìn sông nhớ nguồn.')"
   ]
  },
  {
   "cell_type": "code",
   "execution_count": 12,
   "id": "04edb8f0",
   "metadata": {},
   "outputs": [
    {
     "name": "stdout",
     "output_type": "stream",
     "text": [
      " thanhh12@! \n"
     ]
    }
   ],
   "source": [
    "#Câu7\n",
    "a=\" thanhh12@! \"\n",
    "print(a)"
   ]
  },
  {
   "cell_type": "code",
   "execution_count": 13,
   "id": "b7425782",
   "metadata": {},
   "outputs": [
    {
     "name": "stdout",
     "output_type": "stream",
     "text": [
      " ****\n",
      " *  *\n",
      " *  *\n",
      " ****\n"
     ]
    }
   ],
   "source": [
    "#Câu8\n",
    "rows = 4\n",
    "for i in range(rows):\n",
    " if i == 0 or i == rows - 1:\n",
    "     print(\" ****\")\n",
    " else:\n",
    "     print(\" *  *\")"
   ]
  },
  {
   "cell_type": "code",
   "execution_count": 14,
   "id": "e176d81f",
   "metadata": {},
   "outputs": [
    {
     "name": "stdout",
     "output_type": "stream",
     "text": [
      "*********\n",
      "*********\n",
      "*********\n",
      "*********\n"
     ]
    }
   ],
   "source": [
    "#Câu9\n",
    "cao=4\n",
    "rong=9\n",
    "for i in range(cao):\n",
    "    print('*'*rong)"
   ]
  },
  {
   "cell_type": "code",
   "execution_count": 15,
   "id": "fb8be005",
   "metadata": {},
   "outputs": [
    {
     "name": "stdout",
     "output_type": "stream",
     "text": [
      "     *     \n",
      "    ***    \n",
      "  *******  \n",
      "    ***    \n",
      "   *****   \n",
      "***********\n",
      "    * *    \n",
      "    * *    \n"
     ]
    }
   ],
   "source": [
    "#Câu10\n",
    "arr = [1, 3, 7, 3, 5, 11]\n",
    "\n",
    "for i in range(len(arr)):\n",
    "    print((\"*\" * arr[i]).center(11))\n",
    "\n",
    "for i in range(2):\n",
    "    print((\"* *\").center(11))"
   ]
  }
 ],
 "metadata": {
  "kernelspec": {
   "display_name": "Python 3",
   "language": "python",
   "name": "python3"
  },
  "language_info": {
   "codemirror_mode": {
    "name": "ipython",
    "version": 3
   },
   "file_extension": ".py",
   "mimetype": "text/x-python",
   "name": "python",
   "nbconvert_exporter": "python",
   "pygments_lexer": "ipython3",
   "version": "3.13.7"
  }
 },
 "nbformat": 4,
 "nbformat_minor": 5
}
