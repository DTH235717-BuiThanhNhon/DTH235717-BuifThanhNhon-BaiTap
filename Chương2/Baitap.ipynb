{
 "cells": [
  {
   "cell_type": "code",
   "execution_count": 1,
   "id": "05f01dca",
   "metadata": {},
   "outputs": [
    {
     "name": "stdout",
     "output_type": "stream",
     "text": [
      "Chu vi = 31.41592653589793\n",
      "Diện tích= 25.0\n"
     ]
    }
   ],
   "source": [
    "#CÂU1\n",
    "import math\n",
    "try:\n",
    " r=float(input(\"Mời bạn nhập bán kính hình tròn:\"))\n",
    " cv=2*math.pi*r\n",
    " dt=r**2\n",
    " print(\"Chu vi =\",cv)\n",
    " print(\"Diện tích=\",dt)\n",
    "except:\n",
    " print(\"Lỗi rồi!\")\n",
    " "
   ]
  },
  {
   "cell_type": "code",
   "execution_count": null,
   "id": "6f8ef9b5",
   "metadata": {},
   "outputs": [
    {
     "name": "stdout",
     "output_type": "stream",
     "text": [
      "0 : 37 : 2\n"
     ]
    }
   ],
   "source": [
    "#CÂU2\n",
    "t=int(input(\"Nhập số giây:\"))\n",
    "hour=(t//3600)%24\n",
    "minute=(t%3600)//60\n",
    "second=(t%3600)%60\n",
    "print(hour,\":\",minute,\":\",second)\n"
   ]
  },
  {
   "cell_type": "code",
   "execution_count": null,
   "id": "50998533",
   "metadata": {},
   "outputs": [
    {
     "name": "stdout",
     "output_type": "stream",
     "text": [
      "Điểm trung bình= 7.0\n",
      "Điểm trung bình= 7.0\n"
     ]
    }
   ],
   "source": [
    "#CÂU3     \n",
    "toan=float(input(\"Nhập điểm Toán:\"))\n",
    "ly=float(input(\"Nhập điểm lý:\"))\n",
    "hoa=float(input(\"Nhập điểm hóa:\"))\n",
    "dtb=(toan+ly+hoa)/3\n",
    "print(\"Điểm trung bình=\",dtb)\n",
    "print(\"Điểm trung bình=\",round(dtb,2)) "
   ]
  },
  {
   "cell_type": "code",
   "execution_count": 5,
   "id": "12a74cd9",
   "metadata": {},
   "outputs": [
    {
     "name": "stdout",
     "output_type": "stream",
     "text": [
      "Python hỗ trợ những kiểu dữ liệu cơ bản nào?\n",
      "Kiểu số học (Numeric Types): int, float, complex\n",
      "Kiểu chuỗi ký tự (Text Type): str\n",
      "Kiểu logic (Boolean Type): bool\n",
      "Kiểu chuỗi dữ liệu (Sequence Types): list, tuple, range\n",
      "Kiểu tập hợp (Set Types): set, frozenset\n",
      "Kiểu ánh xạ (Mapping Type): dict\n",
      "Kiểu đặc biệt: NoneType\n"
     ]
    }
   ],
   "source": [
    "#CÂU4\n",
    "print(\"Python hỗ trợ những kiểu dữ liệu cơ bản nào?\") \n",
    "print(\"Kiểu số học (Numeric Types): int, float, complex\")\n",
    "print(\"Kiểu chuỗi ký tự (Text Type): str\")\n",
    "print(\"Kiểu logic (Boolean Type): bool\")\n",
    "print(\"Kiểu chuỗi dữ liệu (Sequence Types): list, tuple, range\")\n",
    "print(\"Kiểu tập hợp (Set Types): set, frozenset\")\n",
    "print(\"Kiểu ánh xạ (Mapping Type): dict\")\n",
    "print(\"Kiểu đặc biệt: NoneType\")"
   ]
  },
  {
   "cell_type": "code",
   "execution_count": 6,
   "id": "ee1870d4",
   "metadata": {},
   "outputs": [
    {
     "name": "stdout",
     "output_type": "stream",
     "text": [
      "Trình bày các loại ghi chú trong Python?\n",
      "Ghi chú một dòng\n",
      "Dùng nhiều dấu # liên tiếp\n",
      "Dùng chuỗi nhiều dòng\n"
     ]
    },
    {
     "data": {
      "text/plain": [
       "'\\nĐây là một ghi chú nhiều dòng\\nBạn có thể ghi chú bất kỳ\\nCác dòng ghi chú này\\nPython sẽ không thực thi đoạn này.\\n'"
      ]
     },
     "execution_count": 6,
     "metadata": {},
     "output_type": "execute_result"
    }
   ],
   "source": [
    "#CÂU5\n",
    "print(\"Trình bày các loại ghi chú trong Python?\")\n",
    "\n",
    "# Đây là ghi chú một dòng\n",
    "print(\"Ghi chú một dòng\\nDùng nhiều dấu # liên tiếp\\nDùng chuỗi nhiều dòng\")  # Ghi chú phía sau lệnh gán\n",
    "\n",
    "# Đây là ghi chú nhiều dòng\n",
    "# Mỗi dòng bắt đầu bằng dấu #\n",
    "# Python sẽ bỏ qua toàn bộ\n",
    "\n",
    "\"\"\"\n",
    "Đây là một ghi chú nhiều dòng\n",
    "Bạn có thể ghi chú bất kỳ\n",
    "Các dòng ghi chú này\n",
    "Python sẽ không thực thi đoạn này.\n",
    "\"\"\"\n"
   ]
  },
  {
   "cell_type": "code",
   "execution_count": 7,
   "id": "1d09d528",
   "metadata": {},
   "outputs": [
    {
     "name": "stdout",
     "output_type": "stream",
     "text": [
      " Trình bày ý nghĩa toán tử /, //, %, **, and, or, is ?\n",
      "1. Toán tử số học\n",
      "-/: Chia thực (trả về kết quả kiểu float)\n",
      "-//: Chia lấy phần nguyên (floor division)\n",
      "-%: Lấy phần dư (modulo)\n",
      "-**: Lũy thừa (power)\n",
      "2. Toán tử logic\n",
      "-and: Trả về True nếu cả hai điều kiện đều đúng.\n",
      "-or: Trả về True nếu ít nhất một điều kiện đúng.\n",
      "3. Toán tử định danh\n",
      "-is: So sánh xem hai biến có cùng tham chiếu đến một đối tượng trong bộ nhớ hay không\n"
     ]
    }
   ],
   "source": [
    "#CÂU6\n",
    "print(\" Trình bày ý nghĩa toán tử /, //, %, **, and, or, is ?\")\n",
    "\n",
    "print(\"1. Toán tử số học\")\n",
    "print(\"-/: Chia thực (trả về kết quả kiểu float)\")\n",
    "#VD: 5 / 2   # Kết quả: 2.5\n",
    "\n",
    "print(\"-//: Chia lấy phần nguyên (floor division)\")\n",
    "#VD  7 // 2   # Kết quả: 3\n",
    "\n",
    "print(\"-%: Lấy phần dư (modulo)\")\n",
    "#VD 9 % 2   # Kết quả: 1\n",
    "\n",
    "print(\"-**: Lũy thừa (power)\")\n",
    "#VD 3 ** 2   # Kết quả: 9 (3 mũ 2)\n",
    "\n",
    "print(\"2. Toán tử logic\")\n",
    "print(\"-and: Trả về True nếu cả hai điều kiện đều đúng.\")\n",
    "#VD (10 > 2) and (0 < 4)  # True\n",
    "#VD (8 > 2) and (1 > 4)  # False\n",
    " \n",
    "print(\"-or: Trả về True nếu ít nhất một điều kiện đúng.\")\n",
    "#VD (5 > 2) or (0 > 7)   # True\n",
    "#VD (1 > 4) or (9 > 4)   # False\n",
    "\n",
    "print(\"3. Toán tử định danh\")\n",
    "print(\"-is: So sánh xem hai biến có cùng tham chiếu đến một đối tượng trong bộ nhớ hay không\")\n",
    "#VD a = [1, 2, 3]\n",
    "#   b = [1, 2, 3]\n",
    "#   c = a\n",
    "\n",
    "#  (a == b)  # True  (giá trị giống nhau)\n",
    "#  (a is b)  # False (không cùng đối tượng trong bộ nhớ)\n",
    "#  (a is c)  # True  (cùng tham chiếu đến một đối tượng)"
   ]
  },
  {
   "cell_type": "code",
   "execution_count": 8,
   "id": "6a91384d",
   "metadata": {},
   "outputs": [
    {
     "name": "stdout",
     "output_type": "stream",
     "text": [
      "Trình bày một số cách nhập dữ liệu từ bàn phím?\n",
      "1.Nhập dữ liệu kiểu chuỗi (string)\n",
      "-input() luôn trả về chuỗi (str)\n",
      "2. Nhập số nguyên (int)\n",
      "-Dùng hàm int() để chuyển đổi chuỗi nhập vào thành số nguyên.\n",
      "3. Nhập số thực (float)\n",
      "-Dùng hàm float() để chuyển đổi chuỗi nhập vào thành số thực.\n",
      "4. Nhập nhiều giá trị trên một dòng\n",
      "-Có thể dùng split() để tách chuỗi theo khoảng trắng.\n",
      "5. Nhập nhiều số cùng lúc và chuyển kiểu dữ liệu\n",
      "-Kết hợp map() với split().\n",
      "6. Nhập theo từng dòng (dùng vòng lặp)\n"
     ]
    }
   ],
   "source": [
    "#CÂU7\n",
    "print(\"Trình bày một số cách nhập dữ liệu từ bàn phím?\")\n",
    "\n",
    "print(\"1.Nhập dữ liệu kiểu chuỗi (string)\") \n",
    "print(\"-input() luôn trả về chuỗi (str)\")\n",
    "#VD   nhon = input(\"Nhập tên của bạn: \")\n",
    "#     print(\"Xin chào,\", nhon)\n",
    "\n",
    "print(\"2. Nhập số nguyên (int)\")\n",
    "print(\"-Dùng hàm int() để chuyển đổi chuỗi nhập vào thành số nguyên.\")\n",
    "#VD   age = int(input(\"Nhập tuổi của bạn: \"))\n",
    "#     print(\"Bạn\", age, \"tuổi\")\n",
    "\n",
    "print(\"3. Nhập số thực (float)\")\n",
    "print(\"-Dùng hàm float() để chuyển đổi chuỗi nhập vào thành số thực.\")\n",
    "#VD   score = float(input(\"Nhập điểm trung bình: \"))\n",
    "#     print(\"Điểm của bạn là:\", score)\n",
    "\n",
    "print(\"4. Nhập nhiều giá trị trên một dòng\")\n",
    "print(\"-Có thể dùng split() để tách chuỗi theo khoảng trắng.\")\n",
    "#VD   a, b = input(\"Nhập hai số cách nhau bởi dấu cách: \")\n",
    "#     a = int(a)\n",
    "#     b = int(b)\n",
    "#     print(\"Tổng =\", a + b)\n",
    "\n",
    "print(\"5. Nhập nhiều số cùng lúc và chuyển kiểu dữ liệu\")\n",
    "print(\"-Kết hợp map() với split().\")\n",
    "#VD   numbers = list(map(int, input(\"Nhập các số nguyên: \").split()))\n",
    "#     print(\"Danh sách vừa nhập:\", numbers)\n",
    "\n",
    "print(\"6. Nhập theo từng dòng (dùng vòng lặp)\")\n",
    "#VD   n = int(input(\"Nhập số phần tử: \"))\n",
    "#     arr = []\n",
    "#     for i in range(n):\n",
    "#        x = int(input(f\"Nhập phần tử thứ {i+1}: \"))\n",
    "#        arr.append(x)\n",
    "#     print(\"Danh sách:\", arr)\n"
   ]
  },
  {
   "cell_type": "code",
   "execution_count": 9,
   "id": "4272acb4",
   "metadata": {},
   "outputs": [
    {
     "name": "stdout",
     "output_type": "stream",
     "text": [
      ": Trình bày các loại lỗi khi lập trình và cách bắt lỗi trong Python\n",
      "Lỗi cú pháp (SyntaxError)\n",
      "Lỗi thực thi (Runtime Error / Exception)\n",
      "Lỗi logic (Logical Error)\n"
     ]
    }
   ],
   "source": [
    "#CÂU8\n",
    "print(\": Trình bày các loại lỗi khi lập trình và cách bắt lỗi trong Python\")\n",
    "print(\"Lỗi cú pháp (SyntaxError)\")\n",
    "#VD  print(\"Hello\"   # Lỗi: thiếu dấu đóng ngoặc\n",
    "\n",
    "print(\"Lỗi thực thi (Runtime Error / Exception)\")\n",
    "#VD  x = 10 / 0      # ZeroDivisionError\n",
    "#    y = int(\"abc\")  # ValueError\n",
    "\n",
    "print(\"Lỗi logic (Logical Error)\")\n",
    "#VD  Tính diện tích hình chữ nhật nhưng nhầm công thức\n",
    "#    dai = 5\n",
    "#    rong = 3\n",
    "#    dien_tich = dai + rong  # Sai, đúng phải là dai * rong"
   ]
  },
  {
   "cell_type": "code",
   "execution_count": 10,
   "id": "7eb06799",
   "metadata": {},
   "outputs": [
    {
     "name": "stdout",
     "output_type": "stream",
     "text": [
      "Giải thích kết quả tính toán của các biểu thức: i1 = 2, i2 = 5, i3 = -3, d1 = 2.0, d2 = 5.0, d3 = -0.5\n",
      "(a) i1 + (i2 * i3)= 2 + (5 * -3) = 2 + (-15) = -13. (nhân trước, rồi cộng)\n",
      "(b) i1 * (i2 + i3)= 2 * (5 + -3) = 2 * 2 = 4.\n",
      "(c) i1 / (i2 + i3)= 2 / (5 + -3) = 2 / 2 = 1.0 (chia thực → float).\n",
      "d) i1 // (i2 + i3)= 2 // 2 = 1 (chia lấy phần nguyên / floor division).\n",
      "e) i1 / i2 + i3= (2 / 5) + (-3) = 0.4 - 3 = -2.6. (chia thực trước, rồi cộng)\n",
      "(f) i1 // i2 + i3= (2 // 5) + (-3) = 0 + (-3) = -3. (2//5 = 0, vì chia lấy phần nguyên)\n",
      "(g) 3 + 4 + 5 / 3= 3 + 4 + (5/3) = 7 + 1.666... = 8.666666666666666.\n",
      "(h) 3 + 4 + 5 // 3= 3 + 4 + (5//3) = 3 + 4 + 1 = 8.\n",
      "(i) (3 + 4 + 5) / 3= 12 / 3 = 4.0.\n",
      "(j) (3 + 4 + 5) // 3= 12 // 3 = 4.\n",
      "k) d1 + (d2 * d3)= 2.0 + (5.0 * -0.5) = 2.0 + (-2.5) = -0.5.\n",
      "(l) d1 + d2 * d3 Cùng với (k) do ưu tiên nhân: -0.5.\n",
      "(m) d1 / d2 - d3= (2.0 / 5.0) - (-0.5) = 0.4 + 0.5 = 0.9.\n",
      "(n) d1 / (d2 - d3)= 2.0 / (5.0 - (-0.5)) = 2.0 / 5.5 = 0.36363636363636365.\n",
      "(o) d1 + d2 + d3 / 3= 2.0 + 5.0 + ( -0.5 / 3) = 7.0 - 0.166666... = 6.833333333333333.\n",
      "(p) (d1 + d2 + d3) / 3= (2.0 + 5.0 - 0.5) / 3 = 6.5 / 3 = 2.1666666666666665.\n",
      "(q) d1 + d2 + (d3 / 3): 6.833333333333333.\n",
      "(r) 3 * (d1 + d2) * (d1 - d3)= 3 * (2.0 + 5.0) * (2.0 - (-0.5)) = 3 * 7.0 * 2.5 = 21.0 * 2.5 = 52.5.\n"
     ]
    }
   ],
   "source": [
    "#CÂU9\n",
    "print(\"Giải thích kết quả tính toán của các biểu thức: i1 = 2, i2 = 5, i3 = -3, d1 = 2.0, d2 = 5.0, d3 = -0.5\")\n",
    "print(\"(a) i1 + (i2 * i3)= 2 + (5 * -3) = 2 + (-15) = -13. (nhân trước, rồi cộng)\")\n",
    "print(\"(b) i1 * (i2 + i3)= 2 * (5 + -3) = 2 * 2 = 4.\")\n",
    "print(\"(c) i1 / (i2 + i3)= 2 / (5 + -3) = 2 / 2 = 1.0 (chia thực → float).\")\n",
    "print(\"d) i1 // (i2 + i3)= 2 // 2 = 1 (chia lấy phần nguyên / floor division).\")\n",
    "print(\"e) i1 / i2 + i3= (2 / 5) + (-3) = 0.4 - 3 = -2.6. (chia thực trước, rồi cộng)\")\n",
    "print(\"(f) i1 // i2 + i3= (2 // 5) + (-3) = 0 + (-3) = -3. (2//5 = 0, vì chia lấy phần nguyên)\")\n",
    "print(\"(g) 3 + 4 + 5 / 3= 3 + 4 + (5/3) = 7 + 1.666... = 8.666666666666666.\")\n",
    "print(\"(h) 3 + 4 + 5 // 3= 3 + 4 + (5//3) = 3 + 4 + 1 = 8.\")\n",
    "print(\"(i) (3 + 4 + 5) / 3= 12 / 3 = 4.0.\")\n",
    "print(\"(j) (3 + 4 + 5) // 3= 12 // 3 = 4.\")\n",
    "print(\"k) d1 + (d2 * d3)= 2.0 + (5.0 * -0.5) = 2.0 + (-2.5) = -0.5.\")\n",
    "print(\"(l) d1 + d2 * d3 Cùng với (k) do ưu tiên nhân: -0.5.\")\n",
    "print(\"(m) d1 / d2 - d3= (2.0 / 5.0) - (-0.5) = 0.4 + 0.5 = 0.9.\")\n",
    "print(\"(n) d1 / (d2 - d3)= 2.0 / (5.0 - (-0.5)) = 2.0 / 5.5 = 0.36363636363636365.\")\n",
    "print(\"(o) d1 + d2 + d3 / 3= 2.0 + 5.0 + ( -0.5 / 3) = 7.0 - 0.166666... = 6.833333333333333.\")\n",
    "print(\"(p) (d1 + d2 + d3) / 3= (2.0 + 5.0 - 0.5) / 3 = 6.5 / 3 = 2.1666666666666665.\")\n",
    "print(\"(q) d1 + d2 + (d3 / 3): 6.833333333333333.\")\n",
    "print(\"(r) 3 * (d1 + d2) * (d1 - d3)= 3 * (2.0 + 5.0) * (2.0 - (-0.5)) = 3 * 7.0 * 2.5 = 21.0 * 2.5 = 52.5.\")"
   ]
  },
  {
   "cell_type": "code",
   "execution_count": 11,
   "id": "3dc11137",
   "metadata": {},
   "outputs": [
    {
     "name": "stdout",
     "output_type": "stream",
     "text": [
      "Hãy viết ngắn gọn lại các lệnh dưới đây\n",
      "(a) x = x + 1 \n",
      "-> x += 1\n",
      "(b) x = x / 2 \n",
      "-> x /= 2\n",
      "(c) x = x - 1 \n",
      "-> x -= 1\n",
      "(d) x = x + y \n",
      "-> x += y\n",
      "(e) x = x - (y + 7) \n",
      "-> x -= (y + 7)\n",
      "(f) x = 2 * x \n",
      "-> x *= 2\n",
      "(g) number_of_closed_cases = number_of_closed_cases + 2 * ncc \n",
      "-> number_of_closed_cases += 2 * ncc\n"
     ]
    }
   ],
   "source": [
    "#CÂU10\n",
    "print(\"Hãy viết ngắn gọn lại các lệnh dưới đây\")\n",
    "print(\"(a) x = x + 1 \\n-> x += 1\")\n",
    "print(\"(b) x = x / 2 \\n-> x /= 2\")\n",
    "print(\"(c) x = x - 1 \\n-> x -= 1\")\n",
    "print(\"(d) x = x + y \\n-> x += y\")\n",
    "print(\"(e) x = x - (y + 7) \\n-> x -= (y + 7)\")\n",
    "print(\"(f) x = 2 * x \\n-> x *= 2\")\n",
    "print(\"(g) number_of_closed_cases = number_of_closed_cases + 2 * ncc \\n-> number_of_closed_cases += 2 * ncc\")"
   ]
  }
 ],
 "metadata": {
  "kernelspec": {
   "display_name": "Python 3",
   "language": "python",
   "name": "python3"
  },
  "language_info": {
   "codemirror_mode": {
    "name": "ipython",
    "version": 3
   },
   "file_extension": ".py",
   "mimetype": "text/x-python",
   "name": "python",
   "nbconvert_exporter": "python",
   "pygments_lexer": "ipython3",
   "version": "3.13.7"
  }
 },
 "nbformat": 4,
 "nbformat_minor": 5
}
