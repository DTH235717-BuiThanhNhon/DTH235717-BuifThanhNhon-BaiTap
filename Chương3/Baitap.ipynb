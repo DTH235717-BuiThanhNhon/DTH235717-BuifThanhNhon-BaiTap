{
 "cells": [
  {
   "cell_type": "code",
   "execution_count": 1,
   "id": "04827e62",
   "metadata": {},
   "outputs": [
    {
     "name": "stdout",
     "output_type": "stream",
     "text": [
      "Chương trình kiểm tra năm nhuần\n",
      "Năm  2025  không nhuần\n"
     ]
    }
   ],
   "source": [
    "#CÂU1\n",
    "print(\"Chương trình kiểm tra năm nhuần\")\n",
    "year=int(input(\"Mời Thím nhập vào 1 năm:\"))\n",
    "if (year % 4 ==0 and year % 100 != 0) or year % 400 == 0:\n",
    " print(\"Năm \", year, \" là năm nhuần\")\n",
    "else:\n",
    " print(\"Năm \", year, \" không nhuần\")"
   ]
  },
  {
   "cell_type": "code",
   "execution_count": 2,
   "id": "1d15857b",
   "metadata": {},
   "outputs": [
    {
     "name": "stdout",
     "output_type": "stream",
     "text": [
      "Chương trình đếm số ngày trong tháng\n",
      "Tháng  10  có 31 ngày\n"
     ]
    }
   ],
   "source": [
    "#CÂU2\n",
    "print(\"Chương trình đếm số ngày trong tháng\")\n",
    "month=int(input(\"Nhập vào 1 tháng:\"))\n",
    "if month in (1,3,5,7,8,10,12):\n",
    "   print(\"Tháng \", month, \" có 31 ngày\")\n",
    "elif month in (4,6,9,11):\n",
    "   print(\"Tháng \", month, \" có 30 ngày\")\n",
    "elif month==2:\n",
    "   year=int(input(\"Mời bạn nhập vào năm:\"))\n",
    "   if (year % 4 ==0 and year % 100 != 0) or year % 400 ==0:\n",
    "    print(\"Tháng \",month, \" có 29 ngày\")\n",
    "   else:\n",
    "    print(\"Tháng \", month, \" có 28 ngày\")\n",
    "else:\n",
    "    print(\"Tháng \", month, \" không hợp lệ\")"
   ]
  },
  {
   "cell_type": "code",
   "execution_count": 3,
   "id": "68c6dc63",
   "metadata": {},
   "outputs": [
    {
     "name": "stdout",
     "output_type": "stream",
     "text": [
      "Chương trình Giải Phương trình bậc 2\n",
      "Vô No\n"
     ]
    }
   ],
   "source": [
    "#CÂU3\n",
    "from math import sqrt\n",
    "print(\"Chương trình Giải Phương trình bậc 2\")\n",
    "a=float(input(\"Nhập a:\"))\n",
    "b=float(input(\"Nhập b:\"))\n",
    "c=float(input(\"Nhập c:\"))\n",
    "if a == 0:\n",
    " #bx+c=0\n",
    " if b == 0 and c ==0:\n",
    "   print(\"Vô số nghiệm\")\n",
    " elif b==0 and c !=0:\n",
    "   print(\"Vô nghiệm\")\n",
    " else:\n",
    "    x=-c/b\n",
    "    print(\"No x=\",x)\n",
    "else:\n",
    "    delta=b**2-4*a*c\n",
    "    if delta <0 :\n",
    "     print(\"Vô No\")\n",
    "    elif delta ==0:\n",
    "     x=-b/(2*a)\n",
    "     print(\"No kép x1=x2=\",x)\n",
    "    else:\n",
    "     x1=(-b-sqrt(delta))/(2*a)\n",
    "     x2=(-b+sqrt(delta))/(2*a)\n",
    "     print(\"x1=\",x1)\n",
    "     print(\"x2=\",x2)"
   ]
  },
  {
   "cell_type": "code",
   "execution_count": 4,
   "id": "7e0ee7f5",
   "metadata": {},
   "outputs": [
    {
     "name": "stdout",
     "output_type": "stream",
     "text": [
      "Kết quả Boolean Expression:\n",
      "(a) a == 3 : False\n",
      "(b) a < b  : True\n",
      "(c) a >= b : False\n",
      "(d) a <= b : True\n",
      "(e) a != b - 2 : True\n",
      "(f) a < 10 : True\n",
      "(g) a >= 0 and a < 10 : True\n",
      "(h) a < 0 and a < 10 : False\n",
      "(i) a >= 0 and a < 2 : False\n",
      "(j) a < 0 or a < 10 : True\n",
      "(k) a > 0 or a < 10 : True\n",
      "(l) a < 0 or a > 10 : False\n"
     ]
    }
   ],
   "source": [
    "#CÂU4\n",
    "\n",
    "a = int(input(\"Nhập a: \"))\n",
    "b = int(input(\"Nhập b: \"))\n",
    "c = int(input(\"Nhập c: \"))\n",
    "\n",
    "# Hàm chuyển kết quả boolean thành chuỗi True/False\n",
    "def to_str(value):\n",
    "    return \"True\" if value else \"False\"\n",
    "\n",
    "print(\"Kết quả Boolean Expression:\")\n",
    "\n",
    "print(\"(a) a == 3 :\", to_str(a == 3))\n",
    "print(\"(b) a < b  :\", to_str(a < b))\n",
    "print(\"(c) a >= b :\", to_str(a >= b))\n",
    "print(\"(d) a <= b :\", to_str(a <= b))\n",
    "print(\"(e) a != b - 2 :\", to_str(a != b - 2))\n",
    "print(\"(f) a < 10 :\", to_str(a < 10))\n",
    "print(\"(g) a >= 0 and a < 10 :\", to_str(a >= 0 and a < 10))\n",
    "print(\"(h) a < 0 and a < 10 :\", to_str(a < 0 and a < 10))\n",
    "print(\"(i) a >= 0 and a < 2 :\", to_str(a >= 0 and a < 2))\n",
    "print(\"(j) a < 0 or a < 10 :\", to_str(a < 0 or a < 10))\n",
    "print(\"(k) a > 0 or a < 10 :\", to_str(a > 0 or a < 10))\n",
    "print(\"(l) a < 0 or a > 10 :\", to_str(a < 0 or a > 10))\n"
   ]
  },
  {
   "cell_type": "code",
   "execution_count": 6,
   "id": "f2f80e82",
   "metadata": {},
   "outputs": [
    {
     "name": "stdout",
     "output_type": "stream",
     "text": [
      "=== Nhập dữ liệu cho từng mục (a → f) ===\n",
      "a) i = 5 , j = 5 , k = 7\n",
      "b) i = 3 , j = 5 , k = 5\n",
      "c) i = 7 , j = 3 , k = 7\n",
      "d) i = 5 , j = 3 , k = 3\n",
      "e) i = 5 , j = 3 , k = 5\n",
      "f) i = 7 , j = 7 , k = 3\n"
     ]
    }
   ],
   "source": [
    "#CÂU5\n",
    "\n",
    "def xu_ly(i, j, k):\n",
    "    if i < j:\n",
    "        if j < k:\n",
    "            i = j\n",
    "        else:\n",
    "            j = k\n",
    "    else:\n",
    "        if j > k:\n",
    "            j = i\n",
    "        else:\n",
    "            i = k\n",
    "    return i, j, k\n",
    "\n",
    "print(\"=== Nhập dữ liệu cho từng mục (a → f) ===\")\n",
    "\n",
    "# Trường hợp (a)\n",
    "i = int(input(\"Nhập i (a): \"))\n",
    "j = int(input(\"Nhập j (a): \"))\n",
    "k = int(input(\"Nhập k (a): \"))\n",
    "i, j, k = xu_ly(i, j, k)\n",
    "print(\"a) i =\", i, \", j =\", j, \", k =\", k)\n",
    "\n",
    "# Trường hợp (b)\n",
    "i = int(input(\"Nhập i (b): \"))\n",
    "j = int(input(\"Nhập j (b): \"))\n",
    "k = int(input(\"Nhập k (b): \"))\n",
    "i, j, k = xu_ly(i, j, k)\n",
    "print(\"b) i =\", i, \", j =\", j, \", k =\", k)\n",
    "\n",
    "# Trường hợp (c)\n",
    "i = int(input(\"Nhập i (c): \"))\n",
    "j = int(input(\"Nhập j (c): \"))\n",
    "k = int(input(\"Nhập k (c): \"))\n",
    "i, j, k = xu_ly(i, j, k)\n",
    "print(\"c) i =\", i, \", j =\", j, \", k =\", k)\n",
    "\n",
    "# Trường hợp (d)\n",
    "i = int(input(\"Nhập i (d): \"))\n",
    "j = int(input(\"Nhập j (d): \"))\n",
    "k = int(input(\"Nhập k (d): \"))\n",
    "i, j, k = xu_ly(i, j, k)\n",
    "print(\"d) i =\", i, \", j =\", j, \", k =\", k)\n",
    "\n",
    "# Trường hợp (e)\n",
    "i = int(input(\"Nhập i (e): \"))\n",
    "j = int(input(\"Nhập j (e): \"))\n",
    "k = int(input(\"Nhập k (e): \"))\n",
    "i, j, k = xu_ly(i, j, k)\n",
    "print(\"e) i =\", i, \", j =\", j, \", k =\", k)\n",
    "\n",
    "# Trường hợp (f)\n",
    "i = int(input(\"Nhập i (f): \"))\n",
    "j = int(input(\"Nhập j (f): \"))\n",
    "k = int(input(\"Nhập k (f): \"))\n",
    "i, j, k = xu_ly(i, j, k)\n",
    "print(\"f) i =\", i, \", j =\", j, \", k =\", k)\n",
    "\n",
    "\n"
   ]
  },
  {
   "cell_type": "code",
   "execution_count": 8,
   "id": "8773c87f",
   "metadata": {},
   "outputs": [
    {
     "name": "stdout",
     "output_type": "stream",
     "text": [
      "Số vừa nhập: 68\n",
      "Cách đọc: sáu mươi tám\n"
     ]
    }
   ],
   "source": [
    "#CÂU6\n",
    "def doc_so(n):\n",
    "    hang_don = [\"\", \"một\", \"hai\", \"ba\", \"bốn\", \"năm\", \"sáu\", \"bảy\", \"tám\", \"chín\"]\n",
    "    \n",
    "    if n < 10:\n",
    "        return hang_don[n] if n > 0 else \"không\"\n",
    "    \n",
    "    chuc = n // 10\n",
    "    donvi = n % 10\n",
    "\n",
    "    # Trường hợp 10-19\n",
    "    if chuc == 1:\n",
    "        if donvi == 0:\n",
    "            return \"mười\"\n",
    "        elif donvi == 5:\n",
    "            return \"mười lăm\"\n",
    "        else:\n",
    "            return \"mười \" + hang_don[donvi]\n",
    "    \n",
    "    # Trường hợp >=20\n",
    "    chu_so_chuc = hang_don[chuc] + \" mươi\"\n",
    "    \n",
    "    if donvi == 0:\n",
    "        return chu_so_chuc\n",
    "    elif donvi == 1:\n",
    "        return chu_so_chuc + \" mốt\"\n",
    "    elif donvi == 4:\n",
    "        return chu_so_chuc + \" tư\"\n",
    "    elif donvi == 5:\n",
    "        return chu_so_chuc + \" lăm\"\n",
    "    else:\n",
    "        return chu_so_chuc + \" \" + hang_don[donvi]\n",
    "\n",
    "\n",
    "# --- Chạy chương trình ---\n",
    "n = int(input(\"Nhập số n (0-99): \"))\n",
    "print(\"Số vừa nhập:\", n)\n",
    "print(\"Cách đọc:\", doc_so(n))\n"
   ]
  },
  {
   "cell_type": "code",
   "execution_count": 9,
   "id": "d02a443d",
   "metadata": {},
   "outputs": [
    {
     "name": "stdout",
     "output_type": "stream",
     "text": [
      "Ngày vừa nhập là: 26/10/2005\n",
      "Ngày kế tiếp là: 27/10/2005\n"
     ]
    }
   ],
   "source": [
    "#CÂU7\n",
    "def la_nam_nhuan(year):\n",
    "    return (year % 400 == 0) or (year % 4 == 0 and year % 100 != 0)\n",
    "\n",
    "def so_ngay_trong_thang(month, year):\n",
    "    if month in [1, 3, 5, 7, 8, 10, 12]:\n",
    "        return 31\n",
    "    elif month in [4, 6, 9, 11]:\n",
    "        return 30\n",
    "    elif month == 2:\n",
    "        return 29 if la_nam_nhuan(year) else 28\n",
    "    else:\n",
    "        return 0  # tháng không hợp lệ\n",
    "\n",
    "# --- Nhập dữ liệu ---\n",
    "day = int(input(\"Nhập ngày: \"))\n",
    "month = int(input(\"Nhập tháng: \"))\n",
    "year = int(input(\"Nhập năm: \"))\n",
    "\n",
    "print(\"Ngày vừa nhập là: {}/{}/{}\".format(day, month, year))\n",
    "\n",
    "# --- Tìm ngày kế tiếp ---\n",
    "days_in_month = so_ngay_trong_thang(month, year)\n",
    "\n",
    "if day < days_in_month:\n",
    "    day += 1\n",
    "else:\n",
    "    day = 1\n",
    "    if month == 12:\n",
    "        month = 1\n",
    "        year += 1\n",
    "    else:\n",
    "        month += 1\n",
    "\n",
    "print(\"Ngày kế tiếp là: {}/{}/{}\".format(day, month, year))"
   ]
  },
  {
   "cell_type": "code",
   "execution_count": 10,
   "id": "b467adae",
   "metadata": {},
   "outputs": [
    {
     "name": "stdout",
     "output_type": "stream",
     "text": [
      "Số vừa nhập: a = 5.0 , b = 4.0 \n",
      "Phép toán: +\n",
      "Kết quả: 9.0\n"
     ]
    }
   ],
   "source": [
    "#CÂU8\n",
    "# Nhập dữ liệu\n",
    "a = float(input(\"Nhập số a: \"))\n",
    "b = float(input(\"Nhập số b: \"))\n",
    "op = input(\"Nhập phép toán (+, -, *, /): \")\n",
    "\n",
    "print(\"Số vừa nhập: a =\", a, \", b =\", b, \"\\nPhép toán:\", op)\n",
    "\n",
    "# Xử lý phép toán\n",
    "if op == \"+\":\n",
    "    result = a + b\n",
    "elif op == \"-\":\n",
    "    result = a - b\n",
    "elif op == \"*\":\n",
    "    result = a * b\n",
    "elif op == \"/\":\n",
    "    if b != 0:\n",
    "        result = a / b\n",
    "    else:\n",
    "        result = \"Lỗi: Không thể chia cho 0\"\n",
    "else:\n",
    "    result = \"Phép toán không hợp lệ\"\n",
    "\n",
    "# Xuất kết quả\n",
    "print(\"Kết quả:\", result)\n"
   ]
  },
  {
   "cell_type": "code",
   "execution_count": 11,
   "id": "7a7b9f8c",
   "metadata": {},
   "outputs": [
    {
     "name": "stdout",
     "output_type": "stream",
     "text": [
      "Tháng vừa nhập là: 9\n",
      "Tháng 9 thuộc Quý 3\n"
     ]
    }
   ],
   "source": [
    "#CÂU9\n",
    "# Nhập tháng\n",
    "month = int(input(\"Nhập tháng (1-12): \"))\n",
    "\n",
    "print(\"Tháng vừa nhập là:\", month)\n",
    "\n",
    "if 1 <= month <= 3:\n",
    "    print(\"Tháng\", month, \"thuộc Quý 1\")\n",
    "elif 4 <= month <= 6:\n",
    "    print(\"Tháng\", month, \"thuộc Quý 2\")\n",
    "elif 7 <= month <= 9:\n",
    "    print(\"Tháng\", month, \"thuộc Quý 3\")\n",
    "elif 10 <= month <= 12:\n",
    "    print(\"Tháng\", month, \"thuộc Quý 4\")\n",
    "else:\n",
    "    print(\"Tháng không hợp lệ! Vui lòng nhập từ 1 đến 12.\")"
   ]
  },
  {
   "cell_type": "code",
   "execution_count": 12,
   "id": "dff3f396",
   "metadata": {},
   "outputs": [
    {
     "name": "stdout",
     "output_type": "stream",
     "text": [
      "Giá trị vừa nhập: x = 8 , n = 9\n",
      "S(8, 9) = 2135.226807760141\n"
     ]
    }
   ],
   "source": [
    "#CÂU10\n",
    "x = int(input(\"Nhập x: \"))\n",
    "n = int(input(\"Nhập n: \"))\n",
    "\n",
    "print(\"Giá trị vừa nhập: x =\", x, \", n =\", n)\n",
    "\n",
    "s = 0\n",
    "for i in range(1, n + 1):\n",
    "    tu = x ** i  # x^i\n",
    "    mau = 1\n",
    "    for j in range(1, i + 1):  # tính i!\n",
    "        mau *= j\n",
    "    s += tu / mau\n",
    "\n",
    "print(\"S({0}, {1}) = {2}\".format(x, n, s))"
   ]
  },
  {
   "cell_type": "code",
   "execution_count": 13,
   "id": "93aa6dc4",
   "metadata": {},
   "outputs": [
    {
     "name": "stdout",
     "output_type": "stream",
     "text": [
      "Số vừa nhập là: 22\n",
      "22 không phải là số nguyên tố\n",
      "BYE!\n"
     ]
    }
   ],
   "source": [
    "#CÂU11\n",
    "while True:\n",
    "    n = int(input(\"Nhập 1 số nguyên dương: \"))\n",
    "    print(\"Số vừa nhập là:\", n)\n",
    "\n",
    "    # Kiểm tra số nguyên tố\n",
    "    if n < 2:\n",
    "        print(n, \"không phải là số nguyên tố\")\n",
    "    else:\n",
    "        dem = 0\n",
    "        for i in range(1, n + 1):\n",
    "            if n % i == 0:\n",
    "                dem += 1\n",
    "        if dem == 2:\n",
    "            print(n, \"là số nguyên tố\")\n",
    "        else:\n",
    "            print(n, \"không phải là số nguyên tố\")\n",
    "\n",
    "    # Hỏi tiếp tục\n",
    "    hoi = input(\"Bạn có muốn tiếp tục không? (c/k): \")\n",
    "    if hoi.lower() == \"k\":\n",
    "        break\n",
    "\n",
    "print(\"BYE!\")"
   ]
  },
  {
   "cell_type": "code",
   "execution_count": 14,
   "id": "c2d43dfd",
   "metadata": {},
   "outputs": [
    {
     "name": "stdout",
     "output_type": "stream",
     "text": [
      "BẢNG CỬU CHƯƠNG (2 -> 9)\n",
      "\n",
      "2 *  1 =  2\t3 *  1 =  3\t4 *  1 =  4\t5 *  1 =  5\t6 *  1 =  6\t7 *  1 =  7\t8 *  1 =  8\t9 *  1 =  9\t\n",
      "2 *  2 =  4\t3 *  2 =  6\t4 *  2 =  8\t5 *  2 = 10\t6 *  2 = 12\t7 *  2 = 14\t8 *  2 = 16\t9 *  2 = 18\t\n",
      "2 *  3 =  6\t3 *  3 =  9\t4 *  3 = 12\t5 *  3 = 15\t6 *  3 = 18\t7 *  3 = 21\t8 *  3 = 24\t9 *  3 = 27\t\n",
      "2 *  4 =  8\t3 *  4 = 12\t4 *  4 = 16\t5 *  4 = 20\t6 *  4 = 24\t7 *  4 = 28\t8 *  4 = 32\t9 *  4 = 36\t\n",
      "2 *  5 = 10\t3 *  5 = 15\t4 *  5 = 20\t5 *  5 = 25\t6 *  5 = 30\t7 *  5 = 35\t8 *  5 = 40\t9 *  5 = 45\t\n",
      "2 *  6 = 12\t3 *  6 = 18\t4 *  6 = 24\t5 *  6 = 30\t6 *  6 = 36\t7 *  6 = 42\t8 *  6 = 48\t9 *  6 = 54\t\n",
      "2 *  7 = 14\t3 *  7 = 21\t4 *  7 = 28\t5 *  7 = 35\t6 *  7 = 42\t7 *  7 = 49\t8 *  7 = 56\t9 *  7 = 63\t\n",
      "2 *  8 = 16\t3 *  8 = 24\t4 *  8 = 32\t5 *  8 = 40\t6 *  8 = 48\t7 *  8 = 56\t8 *  8 = 64\t9 *  8 = 72\t\n",
      "2 *  9 = 18\t3 *  9 = 27\t4 *  9 = 36\t5 *  9 = 45\t6 *  9 = 54\t7 *  9 = 63\t8 *  9 = 72\t9 *  9 = 81\t\n",
      "2 * 10 = 20\t3 * 10 = 30\t4 * 10 = 40\t5 * 10 = 50\t6 * 10 = 60\t7 * 10 = 70\t8 * 10 = 80\t9 * 10 = 90\t\n"
     ]
    }
   ],
   "source": [
    "#CAU12\n",
    "print(\"BẢNG CỬU CHƯƠNG (2 -> 9)\\n\")\n",
    "\n",
    "for i in range(1, 11):           # vòng lặp hàng (1 đến 10)\n",
    "    for j in range(2, 10):       # vòng lặp cột (2 đến 9)\n",
    "        line = \"{0} * {1:2} = {2:2}\".format(j, i, j * i)\n",
    "        print(line, end='\\t')    # in trên cùng 1 dòng\n",
    "    print()                      # xuống dòng sau mỗi hàng\n"
   ]
  },
  {
   "cell_type": "code",
   "execution_count": 15,
   "id": "c6929dfd",
   "metadata": {},
   "outputs": [
    {
     "name": "stdout",
     "output_type": "stream",
     "text": [
      "****************************************************************************************************\n",
      "Tổng số * được in ra là: 100\n"
     ]
    }
   ],
   "source": [
    "#CÂU13\n",
    "a = 0\n",
    "while a < 100:\n",
    "    print('*', end='')\n",
    "    a += 1\n",
    "print(\"\\nTổng số * được in ra là:\", a)\n"
   ]
  },
  {
   "cell_type": "code",
   "execution_count": 16,
   "id": "3e34e04d",
   "metadata": {},
   "outputs": [
    {
     "name": "stdout",
     "output_type": "stream",
     "text": [
      "********************\n",
      "********************\n",
      "********************\n",
      "********************\n",
      "********************\n",
      "********************\n",
      "********************\n",
      "********************\n",
      "********************\n",
      "********************\n",
      "********************\n",
      "********************\n",
      "********************\n",
      "********************\n",
      "********************\n",
      "********************\n",
      "********************\n",
      "********************\n",
      "********************\n",
      "********************\n",
      "********************\n",
      "********************\n",
      "********************\n",
      "********************\n",
      "********************\n",
      "********************\n",
      "********************\n",
      "********************\n",
      "********************\n",
      "********************\n",
      "********************\n",
      "********************\n",
      "********************\n",
      "********************\n",
      "********************\n",
      "********************\n",
      "********************\n",
      "********************\n",
      "********************\n",
      "********************\n",
      "********************\n",
      "********************\n",
      "********************\n",
      "********************\n",
      "********************\n",
      "********************\n",
      "********************\n",
      "********************\n",
      "********************\n",
      "********************\n",
      "********************\n",
      "********************\n",
      "********************\n",
      "********************\n",
      "********************\n",
      "********************\n",
      "********************\n",
      "********************\n",
      "********************\n",
      "********************\n",
      "********************\n",
      "********************\n",
      "********************\n",
      "********************\n",
      "********************\n",
      "********************\n",
      "********************\n",
      "********************\n",
      "********************\n",
      "********************\n",
      "********************\n",
      "********************\n",
      "********************\n",
      "********************\n",
      "********************\n",
      "********************\n",
      "********************\n",
      "********************\n",
      "********************\n",
      "********************\n",
      "********************\n",
      "********************\n",
      "********************\n",
      "********************\n",
      "********************\n",
      "********************\n",
      "********************\n",
      "********************\n",
      "********************\n",
      "********************\n",
      "********************\n",
      "********************\n",
      "********************\n",
      "********************\n",
      "********************\n",
      "********************\n",
      "********************\n",
      "********************\n",
      "********************\n",
      "********************\n",
      "\n",
      "Tổng số dấu * được in ra là: 2000\n"
     ]
    }
   ],
   "source": [
    "#CÂU14\n",
    "a = 0\n",
    "dem = 0   # biến đếm số *\n",
    "\n",
    "while a < 100:\n",
    "    b = 0\n",
    "    while b < 40:\n",
    "        if (a + b) % 2 == 0:\n",
    "            print('*', end='')\n",
    "            dem += 1\n",
    "        b += 1\n",
    "    print()  # xuống dòng sau mỗi vòng lặp của a\n",
    "    a += 1\n",
    "\n",
    "print(\"\\nTổng số dấu * được in ra là:\", dem)\n"
   ]
  },
  {
   "cell_type": "code",
   "execution_count": 17,
   "id": "7a2fdd6c",
   "metadata": {},
   "outputs": [
    {
     "name": "stdout",
     "output_type": "stream",
     "text": [
      "(a) [0, 1, 2, 3, 4]\n",
      "(b) [5, 6, 7, 8, 9]\n",
      "(c) [5, 8, 11, 14, 17]\n",
      "(d) [20, 19, 18, 17, 16, 15, 14, 13, 12, 11, 10, 9, 8, 7, 6]\n",
      "(e) [20, 17, 14, 11, 8]\n",
      "(f) []\n",
      "(g) []\n",
      "(h) [10, 20, 30, 40, 50, 60, 70, 80, 90, 100]\n",
      "(i) [10, 9, 8, 7, 6, 5, 4, 3, 2, 1, 0]\n",
      "(j) [-3, -2, -1, 0, 1, 2, 3]\n",
      "(k) [0, 1, 2, 3, 4, 5, 6, 7, 8, 9]\n"
     ]
    }
   ],
   "source": [
    "#CÂU15\n",
    "cases = {\n",
    "    \"(a)\": range(5),\n",
    "    \"(b)\": range(5, 10),\n",
    "    \"(c)\": range(5, 20, 3),\n",
    "    \"(d)\": range(20, 5, -1),\n",
    "    \"(e)\": range(20, 5, -3),\n",
    "    \"(f)\": range(10, 5),\n",
    "    \"(g)\": range(0),\n",
    "    \"(h)\": range(10, 101, 10),\n",
    "    \"(i)\": range(10, -1, -1),\n",
    "    \"(j)\": range(-3, 4),\n",
    "    \"(k)\": range(0, 10, 1),\n",
    "}\n",
    "\n",
    "for key, r in cases.items():\n",
    "    print(f\"{key} {list(r)}\")"
   ]
  },
  {
   "cell_type": "code",
   "execution_count": 18,
   "id": "24b0add6",
   "metadata": {},
   "outputs": [
    {
     "name": "stdout",
     "output_type": "stream",
     "text": [
      "****************\n",
      "Tổng số * in ra: 16\n"
     ]
    }
   ],
   "source": [
    "#CÂU16\n",
    "count = 0\n",
    "for a in range(20, 100, 5):\n",
    "    print('*', end='')\n",
    "    count += 1\n",
    "print(\"\\nTổng số * in ra:\", count)\n"
   ]
  },
  {
   "cell_type": "code",
   "execution_count": 20,
   "id": "0b470d57",
   "metadata": {},
   "outputs": [
    {
     "name": "stdout",
     "output_type": "stream",
     "text": [
      "n = 9\n"
     ]
    }
   ],
   "source": [
    "#CÂU17\n",
    "n, m = 0, 100\n",
    "while n != m:\n",
    "    n = int(input(\"Nhập n: \"))\n",
    "    if n < 0:\n",
    "        break   #Bấm -1 để dừng\n",
    "    print(\"n =\", n)"
   ]
  },
  {
   "cell_type": "code",
   "execution_count": null,
   "id": "cb40ba6f",
   "metadata": {},
   "outputs": [],
   "source": [
    "#CÂU18\n",
    "n = int(input(\"Nhập chiều cao n: \"))\n",
    "\n",
    "print(\"Hình 1\")\n",
    "for i in range(n):\n",
    "    for j in range(n):\n",
    "        if i == 0 or i == n-1 or j == 0 or j == n-1:\n",
    "            print(\"*\", end=\" \")\n",
    "        else:\n",
    "            print(\" \", end=\" \")\n",
    "    print()\n",
    "\n",
    "print(\"\\nHình 2\")\n",
    "for i in range(1, n+1):\n",
    "    for j in range(1, n+1):\n",
    "        if j == n or i == n or i + j == n+1:\n",
    "            print(\"*\", end=\" \")\n",
    "        else:\n",
    "            print(\" \", end=\" \")\n",
    "    print()\n",
    "\n",
    "print(\"\\nHình 3\")"
   ]
  },
  {
   "cell_type": "code",
   "execution_count": 21,
   "id": "1e72fa2a",
   "metadata": {},
   "outputs": [
    {
     "name": "stdout",
     "output_type": "stream",
     "text": [
      "Giá trị S(x, n) = 45037389.62312624\n"
     ]
    }
   ],
   "source": [
    "#CÂU19\n",
    "import math\n",
    "\n",
    "# Nhập x và n\n",
    "x = float(input(\"Nhập x: \"))\n",
    "n = int(input(\"Nhập n: \"))\n",
    "\n",
    "S = 0\n",
    "for i in range(n + 1):\n",
    "    k = 2 * i + 1   # số mũ lẻ: 1, 3, 5, ..., 2n+1\n",
    "    S += (x ** k) / math.factorial(k)\n",
    "\n",
    "print(\"Giá trị S(x, n) =\", S)\n"
   ]
  }
 ],
 "metadata": {
  "kernelspec": {
   "display_name": "Python 3",
   "language": "python",
   "name": "python3"
  },
  "language_info": {
   "codemirror_mode": {
    "name": "ipython",
    "version": 3
   },
   "file_extension": ".py",
   "mimetype": "text/x-python",
   "name": "python",
   "nbconvert_exporter": "python",
   "pygments_lexer": "ipython3",
   "version": "3.13.7"
  }
 },
 "nbformat": 4,
 "nbformat_minor": 5
}
